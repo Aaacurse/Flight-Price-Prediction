{
 "cells": [
  {
   "cell_type": "code",
   "execution_count": null,
   "id": "0d190bd6-1f95-4900-9aa4-72bcfee60985",
   "metadata": {},
   "outputs": [],
   "source": []
  }
 ],
 "metadata": {
  "kernelspec": {
   "display_name": "",
   "name": ""
  },
  "language_info": {
   "name": ""
  }
 },
 "nbformat": 4,
 "nbformat_minor": 5
}
